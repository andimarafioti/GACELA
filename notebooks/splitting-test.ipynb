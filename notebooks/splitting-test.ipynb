{
 "cells": [
  {
   "cell_type": "code",
   "execution_count": null,
   "metadata": {},
   "outputs": [],
   "source": [
    "import numpy as np\n",
    "import matplotlib.pyplot as plt"
   ]
  },
  {
   "cell_type": "code",
   "execution_count": null,
   "metadata": {},
   "outputs": [],
   "source": [
    "def get_split(n=256, stride=1):\n",
    "    m = stride*4\n",
    "    ins = []\n",
    "    fins = []\n",
    "    ins.append(0)\n",
    "    ins.append(0)\n",
    "    fins.append(m)\n",
    "    fins.append(2*m)\n",
    "    for i in range(int(np.log2(n//m))):\n",
    "        iin = 2**(i)*m\n",
    "        l = 3*(2**i)*m\n",
    "        ifin = iin + l\n",
    "        ins.append(iin)\n",
    "        fins.append(np.minimum(ifin, n))\n",
    "    return ins, fins\n",
    "\n",
    "def split_sigs(x,ins,fins):\n",
    "    xs = []\n",
    "    for i,j in zip(ins,fins):\n",
    "        xs.append(x[:,:,i:j,:])\n",
    "    return xs\n",
    "def merge_sigs(x, ins, fins):\n",
    "    bs, ch,_, ts = x[0].shape\n",
    "    m = np.zeros([bs, ch, np.max(fins), ts])\n",
    "    for d,i,j in zip(x, ins,fins):\n",
    "        m[:,:,i:j,:] += d\n",
    "    return m/2\n",
    "\n",
    "n = 256\n",
    "ts = 80\n",
    "bs = 8\n",
    "ch = 15\n",
    "a = np.random.randn(bs, ch, n, ts) # Bs-Channels-Freq-Time\n",
    "ins, fins = get_split(n=n, stride=1)\n",
    "\n",
    "np.testing.assert_almost_equal(merge_sigs(split_sigs(a, ins, fins), ins, fins),a)"
   ]
  },
  {
   "cell_type": "code",
   "execution_count": null,
   "metadata": {},
   "outputs": [],
   "source": [
    "total_sum = np.zeros([n])\n",
    "for i,j in zip(ins,fins):\n",
    "    total_sum[i:j] += 1\n",
    "    win = np.zeros([n])\n",
    "    win[i:j]+=1\n",
    "    plt.plot(win)\n",
    "plt.plot(total_sum)"
   ]
  },
  {
   "cell_type": "code",
   "execution_count": null,
   "metadata": {},
   "outputs": [],
   "source": [
    "def np_downsample_1d(x, scaling):\n",
    "    \"\"\"1 dimensional numpy downscaling\"\"\"\n",
    "\n",
    "    bs, ch, n, ts = x.shape\n",
    "    nx = n // scaling\n",
    "    dsx = np.zeros([bs, ch, nx, ts])\n",
    "    for i in range(scaling):\n",
    "        dsx += x[:,:, i:scaling * nx + i:scaling,:]\n",
    "    dsx /= scaling\n",
    "    return dsx"
   ]
  },
  {
   "cell_type": "code",
   "execution_count": null,
   "metadata": {},
   "outputs": [],
   "source": [
    "def np_upsample_1d(x, scaling):\n",
    "    return np.repeat(x,scaling, axis=2)"
   ]
  },
  {
   "cell_type": "code",
   "execution_count": null,
   "metadata": {},
   "outputs": [],
   "source": [
    "stride = 2\n",
    "\n",
    "a = np.random.randn(bs, ch, n, ts) # Bs-Channels-Freq-Time\n",
    "\n",
    "# Smoothing the parts\n",
    "ins_1, fins_1 = get_split(n=n, stride=stride)\n",
    "xs = split_sigs(a, ins_1, fins_1)\n",
    "\n",
    "xs_ds = [np_downsample_1d(el, stride) for el in xs]\n",
    "\n",
    "ins_2, fins_2 = get_split(n=n//stride, stride=1)\n",
    "a_rebuid = merge_sigs(xs_ds, ins_2, fins_2)\n",
    "\n",
    "# Compare with a direct smoothing\n",
    "a_small = np_downsample_1d(a, stride)\n",
    "np.testing.assert_almost_equal(a_rebuid,a_small)"
   ]
  },
  {
   "cell_type": "code",
   "execution_count": null,
   "metadata": {},
   "outputs": [],
   "source": [
    "[b-a for a,b in zip(ins,fins)]"
   ]
  },
  {
   "cell_type": "code",
   "execution_count": null,
   "metadata": {},
   "outputs": [],
   "source": []
  }
 ],
 "metadata": {
  "kernelspec": {
   "display_name": "Python 3",
   "language": "python",
   "name": "python3"
  },
  "language_info": {
   "codemirror_mode": {
    "name": "ipython",
    "version": 3
   },
   "file_extension": ".py",
   "mimetype": "text/x-python",
   "name": "python",
   "nbconvert_exporter": "python",
   "pygments_lexer": "ipython3",
   "version": "3.6.5"
  }
 },
 "nbformat": 4,
 "nbformat_minor": 4
}
